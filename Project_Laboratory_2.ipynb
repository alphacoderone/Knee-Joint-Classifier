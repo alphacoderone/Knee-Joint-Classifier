{
  "nbformat": 4,
  "nbformat_minor": 0,
  "metadata": {
    "colab": {
      "provenance": [],
      "authorship_tag": "ABX9TyMjWsxy7evSIIJJnIhw80QJ",
      "include_colab_link": true
    },
    "kernelspec": {
      "name": "python3",
      "display_name": "Python 3"
    },
    "language_info": {
      "name": "python"
    }
  },
  "cells": [
    {
      "cell_type": "markdown",
      "metadata": {
        "id": "view-in-github",
        "colab_type": "text"
      },
      "source": [
        "<a href=\"https://colab.research.google.com/github/alphacoderone/Knee-Joint-Classifier/blob/main/Project_Laboratory_2.ipynb\" target=\"_parent\"><img src=\"https://colab.research.google.com/assets/colab-badge.svg\" alt=\"Open In Colab\"/></a>"
      ]
    },
    {
      "cell_type": "code",
      "execution_count": null,
      "metadata": {
        "id": "WSKBJ2eqh7b3"
      },
      "outputs": [],
      "source": [
        "!pip install EMD-signal\n",
        "# The PyEMD module is actually called EMD-signal.\n",
        "import numpy as np\n",
        "from PyEMD import EMD\n",
        "import matplotlib.pyplot as plt\n",
        "# Once the EMD-signal package is installed, you should be able to import the EMD class from PyEMD.\n",
        "from scipy.io import loadmat\n",
        "import pandas as pd"
      ]
    },
    {
      "cell_type": "code",
      "source": [
        "normal = []\n",
        "for i in range (51):\n",
        "  a = loadmat(f'/content/novag{i+1}.mat')\n",
        "  normal.append(a)\n",
        "\n",
        "abnormal = []\n",
        "for i in range (38):\n",
        "  a = loadmat(f'/content/abvag{i+1}.mat')\n",
        "  abnormal.append(a)"
      ],
      "metadata": {
        "id": "RVh3DjdYiJ30"
      },
      "execution_count": null,
      "outputs": []
    },
    {
      "cell_type": "code",
      "source": [
        "emd = EMD()\n",
        "\n",
        "normalimfs = []\n",
        "normaln_imfs = []\n",
        "for i in range(51):\n",
        "  signal = normal[i]['data'].flatten()\n",
        "  imf = emd(signal)\n",
        "  imf_subset = imf[:6]\n",
        "  normalimfs.append(imf_subset)\n",
        "  normaln_imf=normalimfs[i].shape[0]\n",
        "  normaln_imfs.append(normaln_imf)\n",
        "\n",
        "imfs = []\n",
        "n_imfs= []\n",
        "for i in range(38):\n",
        "  signal = abnormal[i]['data'].flatten()\n",
        "  imf=emd(signal)\n",
        "  imf_subset = imf[:6]\n",
        "  imfs.append(imf_subset)\n",
        "  n_imf=imfs[i].shape[0]\n",
        "  n_imfs.append(n_imf)\n"
      ],
      "metadata": {
        "id": "MAdjiDCTiO2E"
      },
      "execution_count": null,
      "outputs": []
    },
    {
      "cell_type": "code",
      "source": [
        "# without any key - value pairs extracting time features\n",
        "from scipy.stats import skew, kurtosis\n",
        "\n",
        "# Function to extract time-domain features from a single IMF\n",
        "def extract_time_features(imf):\n",
        "    # Mean\n",
        "    mean_val = np.mean(imf)\n",
        "\n",
        "    # Variance\n",
        "    variance_val = np.var(imf)\n",
        "\n",
        "    # Skewness\n",
        "    skewness_val = skew(imf)\n",
        "\n",
        "    # Kurtosis\n",
        "    kurtosis_val = kurtosis(imf)\n",
        "\n",
        "    # Energy (sum of squared values)\n",
        "    energy_val = np.sum(imf ** 2)\n",
        "\n",
        "    # Entropy (using Shannon's entropy)\n",
        "    hist, bin_edges = np.histogram(imf, bins=10, density=True)\n",
        "    entropy_val = -np.sum(hist * np.log(hist + 1e-9))  # Adding a small value to avoid log(0)\n",
        "\n",
        "    # Return values as a list\n",
        "    return [mean_val, variance_val, skewness_val, kurtosis_val, energy_val, entropy_val]\n"
      ],
      "metadata": {
        "id": "CSe9msqviRRN"
      },
      "execution_count": null,
      "outputs": []
    },
    {
      "cell_type": "code",
      "source": [
        "# without any key - value pairs extracting frequency features\n",
        "from scipy.signal import welch\n",
        "import numpy as np\n",
        "\n",
        "# Function to extract frequency-domain features from a single IMF\n",
        "def extract_frequency_features(imf, fs=2000):\n",
        "    # Power Spectral Density (PSD)\n",
        "    freqs, psd = welch(imf, fs=fs)\n",
        "\n",
        "    # Dominant frequency (frequency with the highest power)\n",
        "    dominant_freq_val = freqs[np.argmax(psd)]\n",
        "\n",
        "    # Total power in the signal\n",
        "    total_power_val = np.sum(psd)\n",
        "\n",
        "    # Return values as a list\n",
        "    return [dominant_freq_val, total_power_val]"
      ],
      "metadata": {
        "id": "n2t65kODiT2p"
      },
      "execution_count": null,
      "outputs": []
    },
    {
      "cell_type": "code",
      "source": [
        "# Function to extract all features from all IMFs of a signal\n",
        "def extract_features_from_signal(imfs, fs=2000):\n",
        "    signal_features = []\n",
        "\n",
        "    for imf in imfs:\n",
        "        # Extract time-domain features (list of values)\n",
        "        time_features = extract_time_features(imf)\n",
        "\n",
        "        # Extract frequency-domain features (list of values)\n",
        "        freq_features = extract_frequency_features(imf, fs)\n",
        "\n",
        "        # Combine both feature sets into a single list\n",
        "        combined_features = time_features + freq_features\n",
        "\n",
        "        # Append to list of features for this signal\n",
        "        signal_features.append(combined_features)\n",
        "\n",
        "    return signal_features\n"
      ],
      "metadata": {
        "id": "yvvu8OL1iXQb"
      },
      "execution_count": null,
      "outputs": []
    },
    {
      "cell_type": "code",
      "source": [
        "# Extract features for all abnormal and normal signals\n",
        "normal_features = []\n",
        "for imf in normalimfs:\n",
        "    features = extract_features_from_signal(imf)\n",
        "    normal_features.append(features)\n",
        "\n",
        "abnormal_features = []\n",
        "for imf in imfs:\n",
        "    features = extract_features_from_signal(imf)\n",
        "    abnormal_features.append(features)\n"
      ],
      "metadata": {
        "id": "Dhk1pjTziaAu"
      },
      "execution_count": null,
      "outputs": []
    },
    {
      "cell_type": "code",
      "source": [
        "mean1 = []\n",
        "variance1 = []\n",
        "skewness1 = []\n",
        "kurtosis1 = []\n",
        "energy1 = []\n",
        "entropy1 = []\n",
        "dominant_freq1 = []\n",
        "total_power1 = []\n",
        "\n",
        "for nf in normal_features:\n",
        "  n = nf[0]\n",
        "  mean1.append(n[0]);\n",
        "  variance1.append(n[1]);\n",
        "  skewness1.append(n[2]);\n",
        "  kurtosis1.append(n[3]);\n",
        "  energy1.append(n[4]);\n",
        "  entropy1.append(n[5]);\n",
        "  dominant_freq1.append(n[6]);\n",
        "  total_power1.append(n[7]);\n",
        "\n",
        "for af in abnormal_features:\n",
        "  a = af[0]\n",
        "  mean1.append(a[0]);\n",
        "  variance1.append(a[1]);\n",
        "  skewness1.append(a[2]);\n",
        "  kurtosis1.append(a[3]);\n",
        "  energy1.append(a[4]);\n",
        "  entropy1.append(a[5]);\n",
        "  dominant_freq1.append(a[6]);\n",
        "  total_power1.append(a[7]);\n"
      ],
      "metadata": {
        "id": "npZ70BSQicmQ"
      },
      "execution_count": null,
      "outputs": []
    },
    {
      "cell_type": "code",
      "source": [
        "import pandas as pd\n",
        "\n",
        "# Create a sample DataFrame\n",
        "data1 = {\n",
        "    'Mean': mean1,\n",
        "    'Variance': variance1,\n",
        "    'Skewness': skewness1,\n",
        "    'Kurtosis': kurtosis1,\n",
        "    'Energy': energy1,\n",
        "    'Entropy': entropy1,\n",
        "    'Dominant Frequency': dominant_freq1,\n",
        "    'Total Power': total_power1\n",
        "}\n",
        "\n",
        "df = pd.DataFrame(data1)\n",
        "\n",
        "# Export to Excel\n",
        "df.to_excel('IMF1.xlsx', index=False)"
      ],
      "metadata": {
        "id": "wGuyoAPKiilL"
      },
      "execution_count": null,
      "outputs": []
    },
    {
      "cell_type": "code",
      "source": [
        "mean2 = []\n",
        "variance2 = []\n",
        "skewness2 = []\n",
        "kurtosis2 = []\n",
        "energy2 = []\n",
        "entropy2 = []\n",
        "dominant_freq2 = []\n",
        "total_power2 = []\n",
        "\n",
        "for nf in normal_features:\n",
        "    n = nf[1]\n",
        "    mean2.append(n[0])\n",
        "    variance2.append(n[1])\n",
        "    skewness2.append(n[2])\n",
        "    kurtosis2.append(n[3])\n",
        "    energy2.append(n[4])\n",
        "    entropy2.append(n[5])\n",
        "    dominant_freq2.append(n[6])\n",
        "    total_power2.append(n[7])\n",
        "\n",
        "for af in abnormal_features:\n",
        "    a = af[1]\n",
        "    mean2.append(a[0])\n",
        "    variance2.append(a[1])\n",
        "    skewness2.append(a[2])\n",
        "    kurtosis2.append(a[3])\n",
        "    energy2.append(a[4])\n",
        "    entropy2.append(a[5])\n",
        "    dominant_freq2.append(a[6])\n",
        "    total_power2.append(a[7])\n"
      ],
      "metadata": {
        "id": "q9inBFUWilqG"
      },
      "execution_count": null,
      "outputs": []
    },
    {
      "cell_type": "code",
      "source": [
        "import pandas as pd\n",
        "\n",
        "# Create a sample DataFrame\n",
        "data2 = {\n",
        "    'Mean': mean2,\n",
        "    'Variance': variance2,\n",
        "    'Skewness': skewness2,\n",
        "    'Kurtosis': kurtosis2,\n",
        "    'Energy': energy2,\n",
        "    'Entropy': entropy2,\n",
        "    'Dominant Frequency': dominant_freq2,\n",
        "    'Total Power': total_power2\n",
        "}\n",
        "\n",
        "df = pd.DataFrame(data2)\n",
        "\n",
        "# Export to Excel\n",
        "df.to_excel('IMF2.xlsx', index=False)"
      ],
      "metadata": {
        "id": "LFRJqo_3imc4"
      },
      "execution_count": null,
      "outputs": []
    },
    {
      "cell_type": "code",
      "source": [
        "mean3 = []\n",
        "variance3 = []\n",
        "skewness3 = []\n",
        "kurtosis3 = []\n",
        "energy3 = []\n",
        "entropy3 = []\n",
        "dominant_freq3 = []\n",
        "total_power3 = []\n",
        "\n",
        "for nf in normal_features:\n",
        "    n = nf[2]\n",
        "    mean3.append(n[0])\n",
        "    variance3.append(n[1])\n",
        "    skewness3.append(n[2])\n",
        "    kurtosis3.append(n[3])\n",
        "    energy3.append(n[4])\n",
        "    entropy3.append(n[5])\n",
        "    dominant_freq3.append(n[6])\n",
        "    total_power3.append(n[7])\n",
        "\n",
        "for af in abnormal_features:\n",
        "    a = af[2]\n",
        "    mean3.append(a[0])\n",
        "    variance3.append(a[1])\n",
        "    skewness3.append(a[2])\n",
        "    kurtosis3.append(a[3])\n",
        "    energy3.append(a[4])\n",
        "    entropy3.append(a[5])\n",
        "    dominant_freq3.append(a[6])\n",
        "    total_power3.append(a[7])\n"
      ],
      "metadata": {
        "id": "Xp9or-86ipwz"
      },
      "execution_count": null,
      "outputs": []
    },
    {
      "cell_type": "code",
      "source": [
        "import pandas as pd\n",
        "\n",
        "# Create a sample DataFrame\n",
        "data3 = {\n",
        "    'Mean': mean3,\n",
        "    'Variance': variance3,\n",
        "    'Skewness': skewness3,\n",
        "    'Kurtosis': kurtosis3,\n",
        "    'Energy': energy3,\n",
        "    'Entropy': entropy3,\n",
        "    'Dominant Frequency': dominant_freq3,\n",
        "    'Total Power': total_power3\n",
        "}\n",
        "\n",
        "df = pd.DataFrame(data3)\n",
        "\n",
        "# Export to Excel\n",
        "df.to_excel('IMF3.xlsx', index=False)"
      ],
      "metadata": {
        "id": "VJLuMz2hir_N"
      },
      "execution_count": null,
      "outputs": []
    },
    {
      "cell_type": "code",
      "source": [
        "mean4 = []\n",
        "variance4 = []\n",
        "skewness4 = []\n",
        "kurtosis4 = []\n",
        "energy4 = []\n",
        "entropy4 = []\n",
        "dominant_freq4 = []\n",
        "total_power4 = []\n",
        "\n",
        "for nf in normal_features:\n",
        "    n = nf[3]\n",
        "    mean4.append(n[0])\n",
        "    variance4.append(n[1])\n",
        "    skewness4.append(n[2])\n",
        "    kurtosis4.append(n[3])\n",
        "    energy4.append(n[4])\n",
        "    entropy4.append(n[5])\n",
        "    dominant_freq4.append(n[6])\n",
        "    total_power4.append(n[7])\n",
        "\n",
        "for af in abnormal_features:\n",
        "    a = af[3]\n",
        "    mean4.append(a[0])\n",
        "    variance4.append(a[1])\n",
        "    skewness4.append(a[2])\n",
        "    kurtosis4.append(a[3])\n",
        "    energy4.append(a[4])\n",
        "    entropy4.append(a[5])\n",
        "    dominant_freq4.append(a[6])\n",
        "    total_power4.append(a[7])\n"
      ],
      "metadata": {
        "id": "wu55a13liuZ9"
      },
      "execution_count": null,
      "outputs": []
    },
    {
      "cell_type": "code",
      "source": [
        "import pandas as pd\n",
        "\n",
        "# Create a sample DataFrame\n",
        "data4 = {\n",
        "    'Mean': mean4,\n",
        "    'Variance': variance4,\n",
        "    'Skewness': skewness4,\n",
        "    'Kurtosis': kurtosis4,\n",
        "    'Energy': energy4,\n",
        "    'Entropy': entropy4,\n",
        "    'Dominant Frequency': dominant_freq4,\n",
        "    'Total Power': total_power4\n",
        "}\n",
        "\n",
        "df = pd.DataFrame(data4)\n",
        "\n",
        "# Export to Excel\n",
        "df.to_excel('IMF4.xlsx', index=False)"
      ],
      "metadata": {
        "id": "_Xk74VFliwps"
      },
      "execution_count": null,
      "outputs": []
    },
    {
      "cell_type": "code",
      "source": [
        "mean5 = []\n",
        "variance5 = []\n",
        "skewness5 = []\n",
        "kurtosis5 = []\n",
        "energy5 = []\n",
        "entropy5 = []\n",
        "dominant_freq5 = []\n",
        "total_power5 = []\n",
        "\n",
        "for nf in normal_features:\n",
        "    n = nf[4]\n",
        "    mean5.append(n[0])\n",
        "    variance5.append(n[1])\n",
        "    skewness5.append(n[2])\n",
        "    kurtosis5.append(n[3])\n",
        "    energy5.append(n[4])\n",
        "    entropy5.append(n[5])\n",
        "    dominant_freq5.append(n[6])\n",
        "    total_power5.append(n[7])\n",
        "\n",
        "for af in abnormal_features:\n",
        "    a = af[4]\n",
        "    mean5.append(a[0])\n",
        "    variance5.append(a[1])\n",
        "    skewness5.append(a[2])\n",
        "    kurtosis5.append(a[3])\n",
        "    energy5.append(a[4])\n",
        "    entropy5.append(a[5])\n",
        "    dominant_freq5.append(a[6])\n",
        "    total_power5.append(a[7])\n"
      ],
      "metadata": {
        "id": "GNsT4i6biyyr"
      },
      "execution_count": null,
      "outputs": []
    },
    {
      "cell_type": "code",
      "source": [
        "import pandas as pd\n",
        "\n",
        "# Create a sample DataFrame\n",
        "data5 = {\n",
        "    'Mean': mean5,\n",
        "    'Variance': variance5,\n",
        "    'Skewness': skewness5,\n",
        "    'Kurtosis': kurtosis5,\n",
        "    'Energy': energy5,\n",
        "    'Entropy': entropy5,\n",
        "    'Dominant Frequency': dominant_freq5,\n",
        "    'Total Power': total_power5\n",
        "}\n",
        "\n",
        "df = pd.DataFrame(data5)\n",
        "\n",
        "# Export to Excel\n",
        "df.to_excel('IMF5.xlsx', index=False)"
      ],
      "metadata": {
        "id": "9V4w537di07-"
      },
      "execution_count": null,
      "outputs": []
    },
    {
      "cell_type": "code",
      "source": [
        "mean6 = []\n",
        "variance6 = []\n",
        "skewness6 = []\n",
        "kurtosis6 = []\n",
        "energy6 = []\n",
        "entropy6 = []\n",
        "dominant_freq6 = []\n",
        "total_power6 = []\n",
        "\n",
        "for nf in normal_features:\n",
        "    n = nf[5]\n",
        "    mean6.append(n[0])\n",
        "    variance6.append(n[1])\n",
        "    skewness6.append(n[2])\n",
        "    kurtosis6.append(n[3])\n",
        "    energy6.append(n[4])\n",
        "    entropy6.append(n[5])\n",
        "    dominant_freq6.append(n[6])\n",
        "    total_power6.append(n[7])\n",
        "\n",
        "for af in abnormal_features:\n",
        "    a = af[5]\n",
        "    mean6.append(a[0])\n",
        "    variance6.append(a[1])\n",
        "    skewness6.append(a[2])\n",
        "    kurtosis6.append(a[3])\n",
        "    energy6.append(a[4])\n",
        "    entropy6.append(a[5])\n",
        "    dominant_freq6.append(a[6])\n",
        "    total_power6.append(a[7])\n",
        "\n"
      ],
      "metadata": {
        "id": "_1aLVozli3FY"
      },
      "execution_count": null,
      "outputs": []
    },
    {
      "cell_type": "code",
      "source": [
        "import pandas as pd\n",
        "\n",
        "# Create a sample DataFrame\n",
        "data6 = {\n",
        "    'Mean': mean6,\n",
        "    'Variance': variance6,\n",
        "    'Skewness': skewness6,\n",
        "    'Kurtosis': kurtosis6,\n",
        "    'Energy': energy6,\n",
        "    'Entropy': entropy6,\n",
        "    'Dominant Frequency': dominant_freq6,\n",
        "    'Total Power': total_power6\n",
        "}\n",
        "\n",
        "df = pd.DataFrame(data6)\n",
        "\n",
        "# Export to Excel\n",
        "df.to_excel('IMF6.xlsx', index=False)"
      ],
      "metadata": {
        "id": "xJOlhTNJi5Kq"
      },
      "execution_count": null,
      "outputs": []
    },
    {
      "cell_type": "code",
      "source": [
        "from sklearn.model_selection import train_test_split\n",
        "from sklearn.preprocessing import StandardScaler\n",
        "from sklearn.ensemble import RandomForestClassifier\n",
        "from sklearn.metrics import classification_report, accuracy_score, confusion_matrix\n",
        "import matplotlib.pyplot as plt\n",
        "import seaborn as sns\n",
        "import pandas as pd\n",
        "import joblib  # For saving model and scaler\n",
        "\n",
        "# Step 1: Load the dataset\n",
        "df = pd.read_excel('/content/IMF1.xlsx')\n",
        "\n",
        "# Step 2: Prepare features (X) and labels (y)\n",
        "X = df.drop('Label', axis=1)  # All features\n",
        "y = df['Label']               # Target labels\n",
        "\n",
        "# Step 3: Split the data into training and testing sets (80% train, 20% test)\n",
        "X_train, X_test, y_train, y_test = train_test_split(X, y, test_size=0.2, random_state=42)\n",
        "\n",
        "# Step 4: Standardize the features (scaling)\n",
        "scaler = StandardScaler()\n",
        "X_train_scaled = scaler.fit_transform(X_train)\n",
        "X_test_scaled = scaler.transform(X_test)\n",
        "\n",
        "# Step 5: Train a Random Forest classifier\n",
        "rf_model = RandomForestClassifier(random_state=42)  # Default RandomForestClassifier\n",
        "rf_model.fit(X_train_scaled, y_train)\n",
        "\n",
        "# Save the model and scaler for later use\n",
        "joblib.dump(rf_model, 'random_forest_model.joblib')\n",
        "joblib.dump(scaler, 'scaler.joblib')\n",
        "\n",
        "# Step 6: Make predictions on the test set\n",
        "y_pred = rf_model.predict(X_test_scaled)\n",
        "\n",
        "# Step 7: Evaluate the model\n",
        "print(\"Accuracy:\", accuracy_score(y_test, y_pred))\n",
        "print(\"\\nClassification Report:\\n\", classification_report(y_test, y_pred))\n",
        "\n",
        "# Step 8: Generate and plot the confusion matrix\n",
        "cm = confusion_matrix(y_test, y_pred)\n",
        "\n",
        "# Plot the confusion matrix using Seaborn heatmap\n",
        "plt.figure(figsize=(8, 6))\n",
        "sns.heatmap(cm, annot=True, fmt=\"d\", cmap=\"Blues\", xticklabels=['Abnormal (-1)', 'Normal (+1)'], yticklabels=['Abnormal (-1)', 'Normal (+1)'])\n",
        "plt.title('Confusion Matrix')\n",
        "plt.xlabel('Predicted')\n",
        "plt.ylabel('Actual')\n",
        "plt.show()\n"
      ],
      "metadata": {
        "id": "hp7Wiafyi_kK",
        "outputId": "ff585da9-79bf-4bc3-9cec-2d3e2040d383",
        "colab": {
          "base_uri": "https://localhost:8080/",
          "height": 772
        }
      },
      "execution_count": null,
      "outputs": [
        {
          "output_type": "stream",
          "name": "stdout",
          "text": [
            "Accuracy: 0.8888888888888888\n",
            "\n",
            "Classification Report:\n",
            "               precision    recall  f1-score   support\n",
            "\n",
            "           0       1.00      0.67      0.80         6\n",
            "           1       0.86      1.00      0.92        12\n",
            "\n",
            "    accuracy                           0.89        18\n",
            "   macro avg       0.93      0.83      0.86        18\n",
            "weighted avg       0.90      0.89      0.88        18\n",
            "\n"
          ]
        },
        {
          "output_type": "display_data",
          "data": {
            "text/plain": [
              "<Figure size 800x600 with 2 Axes>"
            ],
            "image/png": "[encoded data removed]"
          },
          "metadata": {}
        }
      ]
    },
    {
      "cell_type": "code",
      "source": [
        "signal = loadmat(f'/content/novag10.mat')\n",
        "emd = EMD()\n",
        "signal = signal['data'].flatten()\n",
        "imf = emd(signal)\n",
        "imf_subset = imf[:6]\n",
        "features = extract_features_from_signal(imf)\n",
        "mean1 = features[0][0]\n",
        "variance1 = features[0][1]\n",
        "skewness1 = features[0][2]\n",
        "kurtosis1 = features[0][3]\n",
        "energy1 = features[0][4]\n",
        "entropy1 = features[0][5]\n",
        "dominant_freq1 = features[0][6]\n",
        "total_power1 = features[0][7]\n",
        "\n",
        "data = [mean1, variance1, skewness1, kurtosis1, energy1, entropy1, dominant_freq1, total_power1]\n",
        "\n",
        "import numpy as np\n",
        "from sklearn.preprocessing import StandardScaler\n",
        "import joblib  # To load the saved model\n",
        "import os  # Import the os module\n",
        "import pandas as pd # Import pandas to work with DataFrames\n",
        "\n",
        "# Get the current working directory\n",
        "current_directory = os.getcwd()\n",
        "print(\"Current working directory:\", current_directory)\n",
        "\n",
        "# Load the trained model and the scaler\n",
        "model_path = os.path.join(current_directory, 'random_forest_model.joblib')\n",
        "scaler_path = os.path.join(current_directory, 'scaler.joblib')\n",
        "\n",
        "try:\n",
        "    rf_model = joblib.load(model_path)\n",
        "    scaler = joblib.load(scaler_path)\n",
        "except FileNotFoundError:\n",
        "    print(\"Model or scaler not found. Please check the file paths.\")\n",
        "\n",
        "# Convert data1 to a pandas DataFrame if it's a dictionary\n",
        "if isinstance(data, dict):\n",
        "    data = pd.DataFrame(data)\n",
        "\n",
        "# Example input: replace `input_signal` with the feature array of the signal you want to test\n",
        "# Ensure the input is a numpy array and has shape (1, n_features)\n",
        "input_signal = np.array(data).reshape(1, -1)  # Adjust data1[3] to your specific feature array\n",
        "\n",
        "# Scale the features using the saved scaler\n",
        "input_signal_scaled = scaler.transform(input_signal)\n",
        "\n",
        "# Perform prediction\n",
        "prediction = rf_model.predict(input_signal_scaled)\n",
        "\n",
        "# Output the result\n",
        "result = \"Normal\" if prediction == 1 else \"Abnormal\"\n",
        "print(\"Signal Classification Prediction:\", result)"
      ],
      "metadata": {
        "colab": {
          "base_uri": "https://localhost:8080/"
        },
        "id": "ZCLCx1ESmIaU",
        "outputId": "ed009130-cf31-46a3-fa4c-62cc1ebc7b07"
      },
      "execution_count": null,
      "outputs": [
        {
          "output_type": "stream",
          "name": "stdout",
          "text": [
            "Current working directory: /content\n",
            "Signal Classification Prediction: Normal\n"
          ]
        },
        {
          "output_type": "stream",
          "name": "stderr",
          "text": [
            "/usr/local/lib/python3.10/dist-packages/sklearn/base.py:493: UserWarning: X does not have valid feature names, but StandardScaler was fitted with feature names\n",
            "  warnings.warn(\n"
          ]
        }
      ]
    },
    {
      "cell_type": "code",
      "source": [
        "import numpy as np\n",
        "from sklearn.preprocessing import StandardScaler\n",
        "import joblib  # To load the saved model\n",
        "import os  # Import the os module\n",
        "import pandas as pd # Import pandas to work with DataFrames\n",
        "\n",
        "# Get the current working directory\n",
        "current_directory = os.getcwd()\n",
        "print(\"Current working directory:\", current_directory)\n",
        "\n",
        "# Load the trained model and the scaler\n",
        "model_path = os.path.join(current_directory, 'random_forest_model.joblib')\n",
        "scaler_path = os.path.join(current_directory, 'scaler.joblib')\n",
        "\n",
        "try:\n",
        "    rf_model = joblib.load(model_path)\n",
        "    scaler = joblib.load(scaler_path)\n",
        "except FileNotFoundError:\n",
        "    print(\"Model or scaler not found. Please check the file paths.\")\n",
        "\n",
        "# Convert data1 to a pandas DataFrame if it's a dictionary\n",
        "if isinstance(data1, dict):\n",
        "    data1 = pd.DataFrame(data1)\n",
        "\n",
        "# Example input: replace `input_signal` with the feature array of the signal you want to test\n",
        "# Ensure the input is a numpy array and has shape (1, n_features)\n",
        "input_signal = np.array(data1.iloc[55]).reshape(1, -1)  # Adjust data1[3] to your specific feature array\n",
        "\n",
        "# Scale the features using the saved scaler\n",
        "input_signal_scaled = scaler.transform(input_signal)\n",
        "\n",
        "# Perform prediction\n",
        "prediction = rf_model.predict(input_signal_scaled)\n",
        "\n",
        "# Output the result\n",
        "result = \"Normal\" if prediction == 1 else \"Abnormal\"\n",
        "print(\"Signal Classification Prediction:\", result)"
      ],
      "metadata": {
        "colab": {
          "base_uri": "https://localhost:8080/"
        },
        "id": "w6yqW_x6umsv",
        "outputId": "4ce3228c-2c54-4748-aecf-1687f6c9ecda"
      },
      "execution_count": null,
      "outputs": [
        {
          "output_type": "stream",
          "name": "stdout",
          "text": [
            "Current working directory: /content\n",
            "Signal Classification Prediction: Abnormal\n"
          ]
        },
        {
          "output_type": "stream",
          "name": "stderr",
          "text": [
            "/usr/local/lib/python3.10/dist-packages/sklearn/base.py:493: UserWarning: X does not have valid feature names, but StandardScaler was fitted with feature names\n",
            "  warnings.warn(\n"
          ]
        }
      ]
    }
  ]
}